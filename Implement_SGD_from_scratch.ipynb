{
  "nbformat": 4,
  "nbformat_minor": 0,
  "metadata": {
    "colab": {
      "name": "Implement_SGD_from_scratch.ipynb",
      "provenance": []
    },
    "kernelspec": {
      "display_name": "Python 3",
      "language": "python",
      "name": "python3"
    },
    "language_info": {
      "codemirror_mode": {
        "name": "ipython",
        "version": 3
      },
      "file_extension": ".py",
      "mimetype": "text/x-python",
      "name": "python",
      "nbconvert_exporter": "python",
      "pygments_lexer": "ipython3",
      "version": "3.6.5"
    }
  },
  "cells": [
    {
      "cell_type": "markdown",
      "metadata": {
        "id": "vigMRkAgyemP",
        "colab_type": "text"
      },
      "source": [
        "# Implement SGD for linear regression \n",
        "\n",
        "### Objective: \n",
        "Manually implement linear regression using SGD algorithm for boston house price dataset and compare the results with sklearn SGDRegressor implementation."
      ]
    },
    {
      "cell_type": "code",
      "metadata": {
        "colab_type": "code",
        "id": "REYPoTJ1Af7u",
        "colab": {}
      },
      "source": [
        "import warnings\n",
        "warnings.filterwarnings(\"ignore\")\n",
        "from sklearn.datasets import load_boston\n",
        "from random import seed\n",
        "from random import randrange\n",
        "from csv import reader\n",
        "from math import sqrt\n",
        "from sklearn import preprocessing\n",
        "import pandas as pd\n",
        "import numpy as np\n",
        "import matplotlib.pyplot as plt\n",
        "from sklearn.linear_model import SGDRegressor\n",
        "from sklearn import preprocessing\n",
        "from sklearn.metrics import mean_squared_error"
      ],
      "execution_count": 0,
      "outputs": []
    },
    {
      "cell_type": "code",
      "metadata": {
        "colab_type": "code",
        "id": "NTQ2iH-kAwbo",
        "colab": {}
      },
      "source": [
        "X = load_boston().data\n",
        "Y = load_boston().target"
      ],
      "execution_count": 0,
      "outputs": []
    },
    {
      "cell_type": "code",
      "metadata": {
        "colab_type": "code",
        "id": "FgUW39s6Be0U",
        "colab": {}
      },
      "source": [
        "scaler = preprocessing.StandardScaler().fit(X)\n",
        "X = scaler.transform(X)"
      ],
      "execution_count": 0,
      "outputs": []
    },
    {
      "cell_type": "code",
      "metadata": {
        "id": "iJoraqxTyems",
        "colab_type": "code",
        "colab": {}
      },
      "source": [
        "# Define a function to plot the results\n",
        "def scatter_plot(y_true, y_pred):\n",
        "    plt.grid(b=True)\n",
        "    plt.scatter(y_true, y_pred)\n",
        "    plt.title(\"Actual prices Vs. Predicted prices\")\n",
        "    plt.xlabel(\"Actual prices\")\n",
        "    plt.ylabel(\"Predicted prices\")\n",
        "    plt.show()"
      ],
      "execution_count": 0,
      "outputs": []
    },
    {
      "cell_type": "code",
      "metadata": {
        "colab_type": "code",
        "id": "HNu1sXtEBBS2",
        "outputId": "a0c5d3d0-345c-4a34-8ccf-0d9f3d7d23fd",
        "colab": {
          "base_uri": "https://localhost:8080/",
          "height": 34
        }
      },
      "source": [
        "clf = SGDRegressor()\n",
        "clf.fit(X, Y)\n",
        "print(mean_squared_error(Y, clf.predict(X)))"
      ],
      "execution_count": 0,
      "outputs": [
        {
          "output_type": "stream",
          "text": [
            "22.84912407315616\n"
          ],
          "name": "stdout"
        }
      ]
    },
    {
      "cell_type": "markdown",
      "metadata": {
        "id": "euhjuaiVyem9",
        "colab_type": "text"
      },
      "source": [
        "## Implementing our own SGD regressor algorithm"
      ]
    },
    {
      "cell_type": "markdown",
      "metadata": {
        "id": "4d-mr5wkyem_",
        "colab_type": "text"
      },
      "source": [
        "To implement SGD algorithm we will define a function that we can repeatedly use. \n",
        "\n",
        "The implementation details for SGD are given below:\n",
        "\n",
        "1. First initialize the weight and intercept term with initial random values.\n",
        "2. Decide for the number of iterations for which the SGD algorithm will run to find the minima\n",
        "3. Repeatedly divide the dataset into a fixed number of points to create a batch for every iteration\n",
        "4. Compute the partial derivatives for each batch\n",
        "5. Update the weight and intercept term at the end of each iteration\n",
        "6. Update the learning rate at the very end of the iteration\n",
        "\n",
        "So first I will initialize the weight (w) and intercept term (b)."
      ]
    },
    {
      "cell_type": "code",
      "metadata": {
        "id": "FTgN1_DIyenA",
        "colab_type": "code",
        "colab": {}
      },
      "source": [
        "# Create a dataframe for the boston dataset for ease of use\n",
        "boston = pd.DataFrame(data=X)\n",
        "boston['Price'] = Y\n",
        "data = boston.drop('Price', axis=1)\n",
        "target = boston['Price']"
      ],
      "execution_count": 0,
      "outputs": []
    },
    {
      "cell_type": "code",
      "metadata": {
        "id": "tbFOebn9yenG",
        "colab_type": "code",
        "colab": {}
      },
      "source": [
        "def sgd_implementation(X, learning_rate=0.01, n_iterations=100):\n",
        "    '''\n",
        "        In this SGD implementation, X is a dataframe\n",
        "        - learning_rate has a default value of 0.01 and will decrease with\n",
        "          each iteration accoring to the below formula:\n",
        "                learning_rate = learning_rate/2\n",
        "        \n",
        "        - n_iterations is the number of iterations with a default value of 100.\n",
        "          We can change the number of iterations to see\n",
        "          how the performance of the model changes with higher iterations.\n",
        "          \n",
        "          This function will return the optimal w and b for the dataset X\n",
        "    '''\n",
        "    w = np.zeros(shape=(1,13)) # Initialize the weights as a (1,13)D vector\n",
        "    b = 0.0 # initialize the intercept term as 0 \n",
        "    decay = learning_rate/10000 # Decay rate\n",
        "    \n",
        "    for i in range(n_iterations):\n",
        "        # print(\"Current w: {} and b: {}\".format(w,b))\n",
        "        # First randomly take batch size of 10 from the data\n",
        "        batch = X.sample(10)\n",
        "        \n",
        "        # Separate independent and dependent variables and convert into numpy array\n",
        "        # for ease of computation.\n",
        "        data = np.array(batch.drop('Price', axis=1)) # Independent variables from the batch\n",
        "        target = np.array(batch['Price']) # Dependent variable\n",
        "        \n",
        "        # Initialize the partial derivative terms\n",
        "        # l_der_w is derivative of L (Loss function) with respect to w\n",
        "        # l_der_b is derivative of L (Loss function) with respect to b\n",
        "        \n",
        "        l_der_w = np.zeros(shape=(1,13)) # derivative of L w.r.t w will also be a 13D vector\n",
        "        l_der_b = 0.0\n",
        "        \n",
        "        # l_der_w = -2/n * Sum(x_i * (y - y_hat))\n",
        "        # l_der_b = -2/n * Sum(y - y_hat)\n",
        "        # As we are performing SGD, we will first take the summation of all the elements\n",
        "        # the batch, and then perform the -2/n part for ease of computation\n",
        "        for j in range(10):\n",
        "            y = np.dot(w, data[j]) + b\n",
        "            l_der_w += data[j] * (target[j] - y)\n",
        "            l_der_b += target[j] - y\n",
        "            \n",
        "        l_der_w *= - 2/data.shape[0] # data.shape[0] is number of points, 10 in this case\n",
        "        l_der_b *= - 2/data.shape[0] \n",
        "        \n",
        "        # Update the weight and intercept term\n",
        "        w1 = w - learning_rate * l_der_w\n",
        "        b1 = b - learning_rate * l_der_b\n",
        "        \n",
        "        # Replace w and b with updated values\n",
        "        w = w1\n",
        "        b = b1\n",
        "        \n",
        "        # Update the learning rate\n",
        "        learning_rate *= (1./ (1. + decay * i))\n",
        "    return w, b"
      ],
      "execution_count": 0,
      "outputs": []
    },
    {
      "cell_type": "code",
      "metadata": {
        "id": "s-DEUhAwyenJ",
        "colab_type": "code",
        "colab": {}
      },
      "source": [
        "# Define function to predict test data for ease of use\n",
        "def predict (data, w, b):\n",
        "    predicted = []\n",
        "    data = np.array(data)\n",
        "    for i in range(data.shape[0]):\n",
        "        yhat = np.dot(w,data[i]) + b # By following the equation y = (w.T * x) + b\n",
        "        predicted.append(yhat)\n",
        "    return predicted"
      ],
      "execution_count": 0,
      "outputs": []
    },
    {
      "cell_type": "markdown",
      "metadata": {
        "id": "t36Dc7mtyenM",
        "colab_type": "text"
      },
      "source": [
        "To make the results of my implementation similar to that of sklearn's SGDRegressor, I will be using default learning rate as 0.01 as it is done in the sklearn implementation.\n",
        "\n",
        "Now keeping the initial learning rate same, there are two things we can vary to make our model more similar to the sklearn implementation. The first one is how we are going to decrease the learning rate. For that I am using the following formula: \n",
        "\n",
        "learning_rate *=  1./ (1. + decay+iterations)\n",
        "\n",
        "The other thing that we can modify is the number of iterations for which our model will run to find the minima point. SO to test the manual implementation for how effectively it can find the optimal parameters compared to the sklearn version of the algorithm, I will run both my implementation and sklearn for 100, 1000, 10000 iterations to see how the error rate changes over the number of iterations."
      ]
    },
    {
      "cell_type": "code",
      "metadata": {
        "id": "gh6VWO8vyenN",
        "colab_type": "code",
        "colab": {}
      },
      "source": [
        "# Divide the dataset into train and test\n",
        "from sklearn.model_selection import train_test_split\n",
        "train_data, test_data, train_y, test_y = train_test_split(data, target, test_size=0.33, random_state=42)"
      ],
      "execution_count": 0,
      "outputs": []
    },
    {
      "cell_type": "markdown",
      "metadata": {
        "id": "3yPdJlOkyenP",
        "colab_type": "text"
      },
      "source": [
        "## Compare sklearn and sgd_implementation using n_iterations = 100"
      ]
    },
    {
      "cell_type": "markdown",
      "metadata": {
        "id": "TESFEwNqyenQ",
        "colab_type": "text"
      },
      "source": [
        "#### For sklearn implementation"
      ]
    },
    {
      "cell_type": "code",
      "metadata": {
        "id": "MYDvrWm-yenR",
        "colab_type": "code",
        "colab": {}
      },
      "source": [
        "clf = SGDRegressor(max_iter=100)\n",
        "clf.fit(train_data, train_y)\n",
        "pred_sklearn_100 = clf.predict(test_data)"
      ],
      "execution_count": 0,
      "outputs": []
    },
    {
      "cell_type": "code",
      "metadata": {
        "id": "MsG2ZsHGyenU",
        "colab_type": "code",
        "colab": {},
        "outputId": "4b0373a8-2ab4-426f-b495-1fdfe08881ff"
      },
      "source": [
        "print(\"Error for sklearn sgd implementation after 100 iterations: \", mean_squared_error(test_y, pred_sklearn_100))\n",
        "print(\"Weight is :\\n {}\".format(clf.coef_))\n",
        "print(\"Intercept term is: \", clf.intercept_)"
      ],
      "execution_count": 0,
      "outputs": [
        {
          "output_type": "stream",
          "text": [
            "Error for sklearn sgd implementation after 100 iterations:  20.802068790344403\n",
            "Weight is :\n",
            " [-1.0677769   0.82446394  0.34537954  0.83578686 -1.83782619  2.71634817\n",
            " -0.34674907 -3.00184447  1.82538286 -1.11242627 -1.99624654  1.08158608\n",
            " -3.89250935]\n",
            "Intercept term is:  [22.46886873]\n"
          ],
          "name": "stdout"
        }
      ]
    },
    {
      "cell_type": "code",
      "metadata": {
        "id": "d3OOG6vmyenX",
        "colab_type": "code",
        "colab": {},
        "outputId": "9abf4996-388b-422f-bf16-ebfc903c1d4c"
      },
      "source": [
        "scatter_plot(test_y, pred_sklearn_100)"
      ],
      "execution_count": 0,
      "outputs": [
        {
          "output_type": "display_data",
          "data": {
            "image/png": "[encoded data removed]",
            "text/plain": [
              "<Figure size 432x288 with 1 Axes>"
            ]
          },
          "metadata": {
            "tags": []
          }
        }
      ]
    },
    {
      "cell_type": "markdown",
      "metadata": {
        "id": "WFw4fjTLyenb",
        "colab_type": "text"
      },
      "source": [
        "#### For manual SGD implementation"
      ]
    },
    {
      "cell_type": "code",
      "metadata": {
        "id": "_YTvTCLSyenc",
        "colab_type": "code",
        "colab": {}
      },
      "source": [
        "train_df = pd.DataFrame(data=train_data, copy=True)\n",
        "train_df['Price'] = train_y"
      ],
      "execution_count": 0,
      "outputs": []
    },
    {
      "cell_type": "code",
      "metadata": {
        "id": "93D2AM9dyenf",
        "colab_type": "code",
        "colab": {}
      },
      "source": [
        "w_100, b_100 = sgd_implementation(train_df)\n",
        "pred_sgd_100 = predict(test_data, w_100, b_100)"
      ],
      "execution_count": 0,
      "outputs": []
    },
    {
      "cell_type": "code",
      "metadata": {
        "id": "YILPGCOLyeni",
        "colab_type": "code",
        "colab": {},
        "outputId": "a176bf39-0eb7-4f37-e5f1-eb0185ab2d9c"
      },
      "source": [
        "print(\"Error for manual sgd implementation after 100 iterations: \", mean_squared_error(test_y, pred_sgd_100))\n",
        "print(\"Weight is :\\n {}\".format(w_100))\n",
        "print(\"Intercept term is: \", b_100)"
      ],
      "execution_count": 0,
      "outputs": [
        {
          "output_type": "stream",
          "text": [
            "Error for manual sgd implementation after 100 iterations:  33.78431087504259\n",
            "Weight is :\n",
            " [[-0.89926032  0.25154223  0.1772469   1.08923326 -0.32708322  3.49396942\n",
            "  -0.14076727 -0.87730875  0.21005323 -0.24886133 -2.13666596  1.01351723\n",
            "  -2.97403596]]\n",
            "Intercept term is:  [19.57741673]\n"
          ],
          "name": "stdout"
        }
      ]
    },
    {
      "cell_type": "code",
      "metadata": {
        "scrolled": true,
        "id": "v1EPDz0vyenl",
        "colab_type": "code",
        "colab": {},
        "outputId": "1bda0f72-04bc-4513-c4ee-0574fc95acce"
      },
      "source": [
        "scatter_plot(test_y, pred_sgd_100)"
      ],
      "execution_count": 0,
      "outputs": [
        {
          "output_type": "display_data",
          "data": {
            "image/png": "[encoded data removed]",
            "text/plain": [
              "<Figure size 432x288 with 1 Axes>"
            ]
          },
          "metadata": {
            "tags": []
          }
        }
      ]
    },
    {
      "cell_type": "markdown",
      "metadata": {
        "id": "ZtpTrcwiyenp",
        "colab_type": "text"
      },
      "source": [
        "## Compare sklearn and sgd_implementation using n_iterations = 1000"
      ]
    },
    {
      "cell_type": "markdown",
      "metadata": {
        "id": "DwbWGE82yenr",
        "colab_type": "text"
      },
      "source": [
        "#### For sklearn implementation"
      ]
    },
    {
      "cell_type": "code",
      "metadata": {
        "scrolled": true,
        "id": "n351FTJfyens",
        "colab_type": "code",
        "colab": {}
      },
      "source": [
        "clf = SGDRegressor(max_iter=1000)\n",
        "clf.fit(train_data, train_y)\n",
        "pred_sklearn_1000 = clf.predict(test_data)"
      ],
      "execution_count": 0,
      "outputs": []
    },
    {
      "cell_type": "code",
      "metadata": {
        "id": "edYqKmwOyenw",
        "colab_type": "code",
        "colab": {},
        "outputId": "ca19e1c5-6eda-4602-e406-e13eef61b1e3"
      },
      "source": [
        "print(\"Error for sklearn sgd implementation after 1000 iterations: \", mean_squared_error(test_y, pred_sklearn_1000))\n",
        "print(\"Weight is :\\n {}\".format(clf.coef_))\n",
        "print(\"Intercept term is: \", clf.intercept_)"
      ],
      "execution_count": 0,
      "outputs": [
        {
          "output_type": "stream",
          "text": [
            "Error for sklearn sgd implementation after 1000 iterations:  20.726360706969746\n",
            "Weight is :\n",
            " [-1.09687073  0.87185159  0.40847462  0.83661364 -1.86756239  2.73338257\n",
            " -0.34817195 -3.00636956  2.04931344 -1.37080041 -2.00890507  1.08666279\n",
            " -3.9147427 ]\n",
            "Intercept term is:  [22.47366505]\n"
          ],
          "name": "stdout"
        }
      ]
    },
    {
      "cell_type": "code",
      "metadata": {
        "id": "wR9EpAbByen6",
        "colab_type": "code",
        "colab": {},
        "outputId": "cc61d40a-a66c-411d-cd20-0adf5a897b0d"
      },
      "source": [
        "scatter_plot(test_y, pred_sklearn_1000)"
      ],
      "execution_count": 0,
      "outputs": [
        {
          "output_type": "display_data",
          "data": {
            "image/png": "[encoded data removed]",
            "text/plain": [
              "<Figure size 432x288 with 1 Axes>"
            ]
          },
          "metadata": {
            "tags": []
          }
        }
      ]
    },
    {
      "cell_type": "markdown",
      "metadata": {
        "id": "DxIarGYCyeoA",
        "colab_type": "text"
      },
      "source": [
        "#### For manual SGD implementation"
      ]
    },
    {
      "cell_type": "code",
      "metadata": {
        "id": "O0Kl0qNTyeoA",
        "colab_type": "code",
        "colab": {}
      },
      "source": [
        "w_1000, b_1000 = sgd_implementation(train_df, n_iterations=1000)\n",
        "pred_sgd_1000 = predict(test_data, w_1000, b_1000)"
      ],
      "execution_count": 0,
      "outputs": []
    },
    {
      "cell_type": "code",
      "metadata": {
        "id": "1q6AE6AAyeoD",
        "colab_type": "code",
        "colab": {},
        "outputId": "9e16c52c-4e92-452b-83fc-89a302f44851"
      },
      "source": [
        "print(\"Error for manual sgd implementation after 1000 iterations: \", mean_squared_error(test_y, pred_sgd_1000))\n",
        "print(\"Weight is :\\n {}\".format(w_1000))\n",
        "print(\"Intercept term is: \", b_1000)"
      ],
      "execution_count": 0,
      "outputs": [
        {
          "output_type": "stream",
          "text": [
            "Error for manual sgd implementation after 1000 iterations:  20.81177215115305\n",
            "Weight is :\n",
            " [[-0.94896473  0.84205336  0.1922698   0.73364813 -1.66744882  2.59271305\n",
            "  -0.20216335 -2.77045631  1.24621491 -0.67980862 -2.05784228  1.03525326\n",
            "  -3.79131468]]\n",
            "Intercept term is:  [22.39333658]\n"
          ],
          "name": "stdout"
        }
      ]
    },
    {
      "cell_type": "code",
      "metadata": {
        "scrolled": true,
        "id": "AGXOGATdyeoG",
        "colab_type": "code",
        "colab": {},
        "outputId": "56a6038e-0b38-4ef7-d0b8-0de96a07dc6f"
      },
      "source": [
        "scatter_plot(test_y, pred_sgd_1000)"
      ],
      "execution_count": 0,
      "outputs": [
        {
          "output_type": "display_data",
          "data": {
            "image/png": "[encoded data removed]",
            "text/plain": [
              "<Figure size 432x288 with 1 Axes>"
            ]
          },
          "metadata": {
            "tags": []
          }
        }
      ]
    },
    {
      "cell_type": "markdown",
      "metadata": {
        "id": "_5bEUMOEyeoJ",
        "colab_type": "text"
      },
      "source": [
        "## Compare sklearn and sgd_implementation using n_iterations = 10000"
      ]
    },
    {
      "cell_type": "markdown",
      "metadata": {
        "id": "BWifyAhYyeoJ",
        "colab_type": "text"
      },
      "source": [
        "#### For sklearn implementation"
      ]
    },
    {
      "cell_type": "code",
      "metadata": {
        "scrolled": true,
        "id": "8macynsuyeoK",
        "colab_type": "code",
        "colab": {}
      },
      "source": [
        "clf = SGDRegressor(max_iter=10000)\n",
        "clf.fit(train_data, train_y)\n",
        "pred_sklearn_10000 = clf.predict(test_data)"
      ],
      "execution_count": 0,
      "outputs": []
    },
    {
      "cell_type": "code",
      "metadata": {
        "id": "zcW44QPWyeoM",
        "colab_type": "code",
        "colab": {},
        "outputId": "1d2e2596-5a5d-48c4-fbd8-8705203973e6"
      },
      "source": [
        "print(\"Error for sklearn sgd implementation after 1000 iterations: \", mean_squared_error(test_y, pred_sklearn_10000))\n",
        "print(\"Weight is :\\n {}\".format(clf.coef_))\n",
        "print(\"Intercept term is: \", clf.intercept_)"
      ],
      "execution_count": 0,
      "outputs": [
        {
          "output_type": "stream",
          "text": [
            "Error for sklearn sgd implementation after 1000 iterations:  20.7546916920261\n",
            "Weight is :\n",
            " [-1.10069622  0.88270257  0.39936125  0.82088831 -1.88043881  2.73259252\n",
            " -0.35981524 -2.99221999  2.03696632 -1.37942602 -2.01195221  1.08713164\n",
            " -3.91551559]\n",
            "Intercept term is:  [22.46538051]\n"
          ],
          "name": "stdout"
        }
      ]
    },
    {
      "cell_type": "code",
      "metadata": {
        "id": "YdajhjGNyeoP",
        "colab_type": "code",
        "colab": {},
        "outputId": "1f5be6f6-b360-449b-ab84-46debe24673e"
      },
      "source": [
        "scatter_plot(test_y, pred_sklearn_10000)"
      ],
      "execution_count": 0,
      "outputs": [
        {
          "output_type": "display_data",
          "data": {
            "image/png": "[encoded data removed]",
            "text/plain": [
              "<Figure size 432x288 with 1 Axes>"
            ]
          },
          "metadata": {
            "tags": []
          }
        }
      ]
    },
    {
      "cell_type": "markdown",
      "metadata": {
        "id": "vjBEBe9_yeoR",
        "colab_type": "text"
      },
      "source": [
        "#### For manual SGD implementation"
      ]
    },
    {
      "cell_type": "code",
      "metadata": {
        "id": "5KbLIQTPyeoS",
        "colab_type": "code",
        "colab": {}
      },
      "source": [
        "w_10000, b_10000 = sgd_implementation(train_df, n_iterations=10000)\n",
        "pred_sgd_10000 = predict(test_data, w_10000, b_10000)"
      ],
      "execution_count": 0,
      "outputs": []
    },
    {
      "cell_type": "code",
      "metadata": {
        "id": "mmJdcBHwyeoU",
        "colab_type": "code",
        "colab": {},
        "outputId": "7f0e6edd-c553-470d-e817-7bfe40aa08b7"
      },
      "source": [
        "print(\"Error for manual sgd implementation after 1000 iterations: \", mean_squared_error(test_y, pred_sgd_10000))\n",
        "print(\"Weight is :\\n {}\".format(w_10000))\n",
        "print(\"Intercept term is: \", b_10000)"
      ],
      "execution_count": 0,
      "outputs": [
        {
          "output_type": "stream",
          "text": [
            "Error for manual sgd implementation after 1000 iterations:  20.776502576858324\n",
            "Weight is :\n",
            " [[-0.99594771  0.8386818   0.22409765  0.80894536 -1.85876814  2.72623608\n",
            "  -0.28027622 -2.9716667   1.68529488 -1.00732216 -1.96511343  1.09662089\n",
            "  -3.95757339]]\n",
            "Intercept term is:  [22.45664395]\n"
          ],
          "name": "stdout"
        }
      ]
    },
    {
      "cell_type": "code",
      "metadata": {
        "scrolled": false,
        "id": "8EKdxCz1yeoY",
        "colab_type": "code",
        "colab": {},
        "outputId": "6cdfc2b3-d352-466b-bdf6-fb85564a623d"
      },
      "source": [
        "scatter_plot(test_y, pred_sgd_10000)"
      ],
      "execution_count": 0,
      "outputs": [
        {
          "output_type": "display_data",
          "data": {
            "image/png": "[encoded data removed]",
            "text/plain": [
              "<Figure size 432x288 with 1 Axes>"
            ]
          },
          "metadata": {
            "tags": []
          }
        }
      ]
    },
    {
      "cell_type": "markdown",
      "metadata": {
        "id": "ITGW94e0yeoe",
        "colab_type": "text"
      },
      "source": [
        "# Conclusion: \n",
        "\n",
        "| Model | Learning rate  | iterations  | Error | Intercept |\n",
        "|----------:|--------|--------------|--------|-----------|\n",
        "| Sklearn SGD| 0.01 | 100 | 20.80 | 22.46|\n",
        "| Manual SGD | 0.01 | 100 | 33.78 | 19.57|\n",
        "| Sklearn SGD| 0.01 | 1000 | 20.72 | 22.47|\n",
        "| Manual SGD | 0.01 | 1000 | 20.81 | 22.39|\n",
        "| Sklearn SGD| 0.01 | 10000 | 20.75 | 22.46|\n",
        "| Manual SGD | 0.01 | 10000 | 20.77 | 22.45|\n",
        "\n",
        "\n",
        "- From the above table it can be clearly stated that with the increase in the number of iterations, the model's probability to find a point that is a local or global minima increases. \n",
        "- For 100 iterations, the sklearn and manual SGD error rate was varying quite a lot (20.8 and 33.78 respectively) but as the number of iteration increased, at 10000 iterations the error rate and also the intercept term are almost equal (20.75 and 20.77) which means our model is almost similar in performance with the sklearn's SGDRegressor implementation. \n",
        "\n"
      ]
    }
  ]
}